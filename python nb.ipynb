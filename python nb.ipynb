{
    "cells": [
        {
            "cell_type": "code",
            "execution_count": 2,
            "metadata": {},
            "outputs": [
                {
                    "name": "stdout",
                    "output_type": "stream",
                    "text": "+---------------+-------+                                           (0 + 1) / 1]\n|YearsExperience| Salary|\n+---------------+-------+\n|            1.1|39343.0|\n|            1.3|46205.0|\n|            1.5|37731.0|\n|            2.0|43525.0|\n|            2.2|39891.0|\n+---------------+-------+\nonly showing top 5 rows\n\n"
                },
                {
                    "data": {
                        "text/plain": "configurationName = os_8c7294c8347d4bce83aaf2e399c5aacf_configs\ncos = com.ibm.ibmos2spark.CloudObjectStorage@c3229b50\nspark = org.apache.spark.sql.SparkSession@c37d3761\ndfData1 = [YearsExperience: double, Salary: double]\n"
                    },
                    "metadata": {},
                    "output_type": "display_data"
                },
                {
                    "data": {
                        "text/plain": "getCredentials: ()scala.collection.mutable.HashMap[String,String]\n"
                    },
                    "metadata": {},
                    "output_type": "display_data"
                },
                {
                    "data": {
                        "text/plain": "[YearsExperience: double, Salary: double]"
                    },
                    "execution_count": 2,
                    "metadata": {},
                    "output_type": "execute_result"
                }
            ],
            "source": "// The code was removed by Watson Studio for sharing."
        },
        {
            "cell_type": "code",
            "execution_count": null,
            "metadata": {},
            "outputs": [],
            "source": ""
        }
    ],
    "metadata": {
        "kernelspec": {
            "display_name": "Scala 2.12 with Spark",
            "language": "scala",
            "name": "scala"
        },
        "language_info": {
            "codemirror_mode": "text/x-scala",
            "file_extension": ".scala",
            "mimetype": "text/x-scala",
            "name": "scala",
            "pygments_lexer": "scala",
            "version": "2.12.15"
        }
    },
    "nbformat": 4,
    "nbformat_minor": 1
}